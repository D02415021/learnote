{
 "cells": [
  {
   "cell_type": "markdown",
   "metadata": {
    "collapsed": true
   },
   "source": [
    "## 任务\n",
    "\n",
    "> 计算一个嵌套的子列表结构中所有数字的总和\n",
    "\n",
    "\n",
    "`[1, [2, [3, 4], 5], 6, [7, 8]]`\n",
    "\n",
    "简单的循环语句在这里并不能起作用, 因为这不是一个线性迭代"
   ]
  },
  {
   "cell_type": "code",
   "execution_count": 8,
   "metadata": {
    "collapsed": true
   },
   "outputs": [],
   "source": [
    "def sumtree(L):\n",
    "    \"\"\"for sum\"\"\"\n",
    "    total = 0\n",
    "    for x in L:\n",
    "        if not isinstance(x, list):\n",
    "            total += x\n",
    "        else:\n",
    "            total += sumtree(x)\n",
    "    return total\n",
    "\n",
    "\n",
    "def countree(L):\n",
    "    \"\"\"for count\"\"\"\n",
    "    count = 0\n",
    "    for x in L:\n",
    "        if not isinstance(x, list):\n",
    "            count += 1\n",
    "        else:\n",
    "            count += countree(x)\n",
    "    return count"
   ]
  },
  {
   "cell_type": "code",
   "execution_count": 15,
   "metadata": {
    "collapsed": false
   },
   "outputs": [
    {
     "name": "stdout",
     "output_type": "stream",
     "text": [
      "36 / 8 = 4.5\n"
     ]
    }
   ],
   "source": [
    "L =  [[1, 2, 3, 4], [5, 6, 7], [8]] \n",
    "print(\"{} / {} = {}\".format(sumtree(L), countree(L), sumtree(L) / countree(L)))"
   ]
  },
  {
   "cell_type": "code",
   "execution_count": 55,
   "metadata": {},
   "outputs": [],
   "source": [
    "def get_avg(L, count=0):\n",
    "    def scantree(L):\n",
    "        nonlocal count\n",
    "        total = 0\n",
    "        for x in L:\n",
    "            if not isinstance(x, list):\n",
    "                total += x\n",
    "                count += 1\n",
    "            else:\n",
    "                total += scantree(x)\n",
    "        return total\n",
    "    return scantree(L) / count"
   ]
  },
  {
   "cell_type": "code",
   "execution_count": 56,
   "metadata": {},
   "outputs": [
    {
     "name": "stdout",
     "output_type": "stream",
     "text": [
      "4.5\n"
     ]
    }
   ],
   "source": [
    "L = [1, [2, [3, 4], 5], 6, [7, 8]]\n",
    "print(get_avg(L))"
   ]
  },
  {
   "cell_type": "code",
   "execution_count": 58,
   "metadata": {},
   "outputs": [],
   "source": [
    "def merge(nums1, m, nums2, n):\n",
    "    nums1[m:] = nums2[:n]\n",
    "    return nums1.sort()"
   ]
  },
  {
   "cell_type": "code",
   "execution_count": 3,
   "metadata": {},
   "outputs": [
    {
     "name": "stdout",
     "output_type": "stream",
     "text": [
      "{\"weatherinfo\":{\"city\":\"åäº¬\",\"cityid\":\"101010100\",\"temp1\":\"-2â\",\"temp2\":\"16â\",\"weather\":\"æ´\",\"img1\":\"n0.gif\",\"img2\":\"d0.gif\",\"ptime\":\"18:00\"}}\nISO-8859-1\nb'{\"weatherinfo\":{\"city\":\"\\xe5\\x8c\\x97\\xe4\\xba\\xac\",\"cityid\":\"101010100\",\"temp1\":\"-2\\xe2\\x84\\x83\",\"temp2\":\"16\\xe2\\x84\\x83\",\"weather\":\"\\xe6\\x99\\xb4\",\"img1\":\"n0.gif\",\"img2\":\"d0.gif\",\"ptime\":\"18:00\"}}'\n{\"weatherinfo\":{\"city\":\"北京\",\"cityid\":\"101010100\",\"temp1\":\"-2℃\",\"temp2\":\"16℃\",\"weather\":\"晴\",\"img1\":\"n0.gif\",\"img2\":\"d0.gif\",\"ptime\":\"18:00\"}}\n"
     ]
    }
   ],
   "source": [
    "import requests\n",
    "url = \"http://www.weather.com.cn/data/cityinfo/101010100.html\"\n",
    "req = requests.get(url)\n",
    "print(req.text)\n",
    "print(req.encoding)\n",
    "print(req.text.encode(req.encoding))\n",
    "print(req.text.encode(req.encoding).decode('utf-8'))"
   ]
  },
  {
   "cell_type": "code",
   "execution_count": 17,
   "metadata": {},
   "outputs": [
    {
     "name": "stdout",
     "output_type": "stream",
     "text": [
      "attachment; filename=青云仙路.txt\n"
     ]
    }
   ],
   "source": [
    "url = 'http://www.23us.so/modules/article/txtarticle.php?id=156'\n",
    "req = requests.head(url)\n",
    "headers = req.headers\n",
    "print(headers.get('Content-Disposition').encode(req.encoding).decode('gb2312'))"
   ]
  },
  {
   "cell_type": "code",
   "execution_count": 15,
   "metadata": {},
   "outputs": [
    {
     "name": "stdout",
     "output_type": "stream",
     "text": [
      "ISO-8859-1\nattachment; filename=ÇàÔÆÏÉÂ·.txt\nb''\n"
     ]
    }
   ],
   "source": [
    "print(ec)\n",
    "print(headers.get('Content-Disposition'))\n",
    "print(req.content)"
   ]
  },
  {
   "cell_type": "code",
   "execution_count": 19,
   "metadata": {},
   "outputs": [],
   "source": [
    "lst =  ['aaa', \n",
    "'aaa', \n",
    "'aaa', \n",
    "'aaa', \n",
    "'ccc', \n",
    "'ccc', \n",
    "'aaa', \n",
    "'aaa', \n",
    "'aaa',\n",
    "'aaa', \n",
    "'ccc', \n",
    "'ccc', \n",
    "'ccc', \n",
    "'aaa', \n",
    "'aaa', \n",
    "'ccc', \n",
    "'ccc', \n",
    "'ccc', \n",
    "'ccc', \n",
    "'ccc']"
   ]
  },
  {
   "cell_type": "code",
   "execution_count": 24,
   "metadata": {},
   "outputs": [
    {
     "name": "stdout",
     "output_type": "stream",
     "text": [
      "[['aaa', 'aaa', 'aaa', 'aaa', 'ccc', 'aaa', 'aaa', 'aaa', 'ccc', 'ccc', 'aaa', 'ccc', 'ccc', 'ccc', 'ccc'], ['aaa', 'aaa', 'aaa', 'ccc', 'aaa', 'aaa', 'aaa', 'ccc', 'ccc', 'aaa', 'ccc', 'ccc', 'ccc', 'ccc'], ['aaa', 'aaa', 'ccc', 'aaa', 'aaa', 'aaa', 'ccc', 'ccc', 'aaa', 'ccc', 'ccc', 'ccc', 'ccc'], ['aaa', 'ccc', 'aaa', 'aaa', 'aaa', 'ccc', 'ccc', 'aaa', 'ccc', 'ccc', 'ccc', 'ccc'], ['ccc', 'ccc', 'aaa', 'aaa', 'aaa', 'ccc', 'ccc', 'aaa', 'ccc', 'ccc', 'ccc', 'ccc'], ['ccc', 'aaa', 'aaa', 'aaa', 'ccc', 'ccc', 'aaa', 'ccc', 'ccc', 'ccc', 'ccc'], ['aaa', 'aaa', 'aaa', 'aaa', 'ccc', 'ccc', 'aaa', 'ccc', 'ccc', 'ccc', 'ccc'], ['aaa', 'aaa', 'aaa', 'ccc', 'ccc', 'aaa', 'ccc', 'ccc', 'ccc', 'ccc'], ['aaa', 'aaa', 'ccc', 'ccc', 'aaa', 'ccc', 'ccc', 'ccc', 'ccc'], ['aaa', 'ccc', 'ccc', 'aaa', 'ccc', 'ccc', 'ccc', 'ccc'], ['ccc', 'ccc', 'ccc', 'aaa', 'ccc', 'ccc', 'ccc', 'ccc'], ['ccc', 'ccc', 'aaa', 'ccc', 'ccc', 'ccc', 'ccc'], ['ccc', 'aaa', 'ccc', 'ccc', 'ccc', 'ccc'], ['aaa', 'aaa', 'ccc', 'ccc', 'ccc', 'ccc'], ['aaa', 'ccc', 'ccc', 'ccc', 'ccc'], ['ccc', 'ccc', 'ccc', 'ccc', 'ccc'], ['ccc', 'ccc', 'ccc', 'ccc'], ['ccc', 'ccc', 'ccc'], ['ccc', 'ccc'], ['ccc']]\n"
     ]
    }
   ],
   "source": [
    "lst_len = len(lst)\n",
    "new_lst = []\n",
    "for i in range(lst_len):\n",
    "    _lst = []\n",
    "    for j in range(i, lst_len):\n",
    "        if lst[i] == lst[j]:\n",
    "            _lst.append(lst[i])\n",
    "        else:\n",
    "            i = j + 1\n",
    "    new_lst.append(_lst)\n",
    "print(new_lst)"
   ]
  },
  {
   "cell_type": "code",
   "execution_count": 46,
   "metadata": {},
   "outputs": [
    {
     "data": {
      "text/plain": [
       "[['aaa', 'aaa'],\n ['aaa', 'aaa', 'aaa', 'aaa'],\n ['aaa', 'aaa', 'aaa', 'aaa'],\n ['ccc', 'ccc'],\n ['ccc', 'ccc', 'ccc'],\n ['ccc', 'ccc', 'ccc', 'ccc', 'ccc']]"
      ]
     },
     "execution_count": 46,
     "metadata": {},
     "output_type": "execute_result"
    }
   ],
   "source": [
    "def modify(lst):\n",
    "    lst_len = len(lst)\n",
    "    new_lst = []\n",
    "    \n",
    "    def group_lst(lst, i=0):\n",
    "        if i == lst_len:\n",
    "            return\n",
    "        j = i\n",
    "        _lst = []\n",
    "        while lst[j] == lst[i]:\n",
    "            _lst.append(lst[j])\n",
    "            i += 1\n",
    "            if i == lst_len: \n",
    "                new_lst.append(_lst)\n",
    "                break\n",
    "        else:\n",
    "            new_lst.append(_lst)\n",
    "        return group_lst(lst, i)\n",
    "    group_lst(lst)\n",
    "    return sorted(new_lst)\n",
    "\n",
    "modify(lst)"
   ]
  },
  {
   "cell_type": "code",
   "execution_count": 57,
   "metadata": {},
   "outputs": [],
   "source": [
    "def generate_index(n, step=5):\n",
    "    for i in range(0, n):\n",
    "        if i + step < n:\n",
    "            yield (i, i + step)\n",
    "        else:\n",
    "            yield (i, None)\n",
    "            break\n",
    "\n",
    "a = [(i, j) for i, j in generate_index(20, 10)]"
   ]
  },
  {
   "cell_type": "code",
   "execution_count": 66,
   "metadata": {},
   "outputs": [],
   "source": [
    "print(a)"
   ]
  },
  {
   "cell_type": "code",
   "execution_count": null,
   "metadata": {},
   "outputs": [],
   "source": [
    "from pandas import pd"
   ]
  },
  {
   "cell_type": "code",
   "execution_count": null,
   "metadata": {},
   "outputs": [],
   "source": [
    ""
   ]
  }
 ],
 "metadata": {
  "kernelspec": {
   "display_name": "Python 3",
   "language": "python",
   "name": "python3"
  },
  "language_info": {
   "codemirror_mode": {
    "name": "ipython",
    "version": 3.0
   },
   "file_extension": ".py",
   "mimetype": "text/x-python",
   "name": "python",
   "nbconvert_exporter": "python",
   "pygments_lexer": "ipython3",
   "version": "3.5.2"
  }
 },
 "nbformat": 4,
 "nbformat_minor": 0
}